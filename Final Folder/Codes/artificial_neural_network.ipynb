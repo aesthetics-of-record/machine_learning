{
 "nbformat": 4,
 "nbformat_minor": 0,
 "metadata": {
  "colab": {
   "name": "Artificial Neural Network",
   "provenance": [],
   "collapsed_sections": [],
   "toc_visible": true
  },
  "kernelspec": {
   "name": "python3",
   "display_name": "Python 3"
  }
 },
 "cells": [
  {
   "cell_type": "markdown",
   "metadata": {
    "id": "3cbb7fRy-eyr",
    "colab_type": "text"
   },
   "source": [
    "# Artificial Neural Network"
   ]
  },
  {
   "cell_type": "markdown",
   "metadata": {
    "id": "8sNDnxE2-pwE",
    "colab_type": "text"
   },
   "source": [
    "### Importing the libraries"
   ]
  },
  {
   "cell_type": "code",
   "metadata": {
    "id": "lxChR1Rk-umf",
    "colab_type": "code",
    "colab": {}
   },
   "source": [
    "import numpy as np\n",
    "import pandas as pd\n",
    "import tensorflow as tf"
   ],
   "execution_count": 1,
   "outputs": []
  },
  {
   "cell_type": "code",
   "metadata": {
    "id": "uBTqR3nacj0e",
    "colab_type": "code",
    "colab": {
     "base_uri": "https://localhost:8080/",
     "height": 34
    },
    "outputId": "4c0bd183-e424-429a-9fba-ceb841c06888"
   },
   "source": [
    "tf.__version__"
   ],
   "execution_count": 2,
   "outputs": [
    {
     "data": {
      "text/plain": "'2.11.0'"
     },
     "execution_count": 2,
     "metadata": {},
     "output_type": "execute_result"
    }
   ]
  },
  {
   "cell_type": "markdown",
   "metadata": {
    "id": "AG3FQEch-yuA",
    "colab_type": "text"
   },
   "source": [
    "## Part 1 - Data Preprocessing"
   ]
  },
  {
   "cell_type": "markdown",
   "metadata": {
    "id": "-4zq8Mza_D9O",
    "colab_type": "text"
   },
   "source": [
    "### Importing the dataset"
   ]
  },
  {
   "cell_type": "code",
   "metadata": {
    "id": "B9CV13Co_HHM",
    "colab_type": "code",
    "colab": {}
   },
   "source": [
    "dataset = pd.read_excel('../Dataset/Folds5x2_pp.xlsx')\n",
    "X = dataset.iloc[:, :-1].values\n",
    "y = dataset.iloc[:, -1].values"
   ],
   "execution_count": 3,
   "outputs": []
  },
  {
   "cell_type": "markdown",
   "metadata": {
    "id": "VC6omXel_Up0",
    "colab_type": "text"
   },
   "source": [
    "### Splitting the dataset into the Training set and Test set"
   ]
  },
  {
   "cell_type": "code",
   "metadata": {
    "id": "L5edeb2r_agx",
    "colab_type": "code",
    "colab": {}
   },
   "source": [
    "from sklearn.model_selection import train_test_split\n",
    "X_train, X_test, y_train, y_test = train_test_split(X, y, test_size = 0.2, random_state = 0)"
   ],
   "execution_count": 4,
   "outputs": []
  },
  {
   "cell_type": "markdown",
   "metadata": {
    "id": "_mSLlAT9_eyI",
    "colab_type": "text"
   },
   "source": [
    "## Part 2 - Building the ANN"
   ]
  },
  {
   "cell_type": "markdown",
   "metadata": {
    "id": "CsBULd_f_wLY",
    "colab_type": "text"
   },
   "source": [
    "### Initializing the ANN"
   ]
  },
  {
   "cell_type": "code",
   "metadata": {
    "id": "J6Hd97Ls__Nz",
    "colab_type": "code",
    "colab": {}
   },
   "source": [
    "ann = tf.keras.models.Sequential()"
   ],
   "execution_count": 5,
   "outputs": []
  },
  {
   "cell_type": "markdown",
   "metadata": {
    "id": "iitAFJS_ABUn",
    "colab_type": "text"
   },
   "source": [
    "### Adding the input layer and the first hidden layer"
   ]
  },
  {
   "cell_type": "code",
   "metadata": {
    "id": "ksO_Vv40AHix",
    "colab_type": "code",
    "colab": {}
   },
   "source": [
    "ann.add(tf.keras.layers.Dense(units=6, activation='relu'))"
   ],
   "execution_count": 6,
   "outputs": []
  },
  {
   "cell_type": "markdown",
   "metadata": {
    "id": "-lb4kK_wAKbs",
    "colab_type": "text"
   },
   "source": [
    "### Adding the second hidden layer"
   ]
  },
  {
   "cell_type": "code",
   "metadata": {
    "id": "c2357OqEAQOQ",
    "colab_type": "code",
    "colab": {}
   },
   "source": [
    "ann.add(tf.keras.layers.Dense(units=6, activation='relu'))"
   ],
   "execution_count": 7,
   "outputs": []
  },
  {
   "cell_type": "markdown",
   "metadata": {
    "id": "jwMOmKb3AdBY",
    "colab_type": "text"
   },
   "source": [
    "### Adding the output layer"
   ]
  },
  {
   "cell_type": "code",
   "metadata": {
    "id": "YFATpzsUAkLL",
    "colab_type": "code",
    "colab": {}
   },
   "source": [
    "ann.add(tf.keras.layers.Dense(units=1))"
   ],
   "execution_count": 8,
   "outputs": []
  },
  {
   "cell_type": "markdown",
   "metadata": {
    "id": "fq7e4fF6A1yy",
    "colab_type": "text"
   },
   "source": [
    "## Part 3 - Training the ANN"
   ]
  },
  {
   "cell_type": "markdown",
   "metadata": {
    "id": "qDeylAs2An25",
    "colab_type": "text"
   },
   "source": [
    "### Compiling the ANN"
   ]
  },
  {
   "cell_type": "code",
   "metadata": {
    "id": "pesgbWlCAtB4",
    "colab_type": "code",
    "colab": {}
   },
   "source": [
    "ann.compile(optimizer = 'adam', loss = 'mean_squared_error')"
   ],
   "execution_count": 9,
   "outputs": []
  },
  {
   "cell_type": "markdown",
   "metadata": {
    "id": "YjVuiybYOo7r",
    "colab_type": "text"
   },
   "source": [
    "### Training the ANN model on the Training set"
   ]
  },
  {
   "cell_type": "code",
   "metadata": {
    "id": "c_vV-tiiA5zn",
    "colab_type": "code",
    "colab": {
     "base_uri": "https://localhost:8080/",
     "height": 1000
    },
    "outputId": "4a2b6ee6-ed75-4698-9069-b250e613803f"
   },
   "source": [
    "ann.fit(X_train, y_train, batch_size = 32, epochs = 100)"
   ],
   "execution_count": 10,
   "outputs": [
    {
     "name": "stdout",
     "output_type": "stream",
     "text": [
      "Epoch 1/100\n",
      "240/240 [==============================] - 1s 854us/step - loss: 294093.2812\n",
      "Epoch 2/100\n",
      "240/240 [==============================] - 0s 874us/step - loss: 16539.5879\n",
      "Epoch 3/100\n",
      "240/240 [==============================] - 0s 820us/step - loss: 497.7805\n",
      "Epoch 4/100\n",
      "240/240 [==============================] - 0s 862us/step - loss: 485.0175\n",
      "Epoch 5/100\n",
      "240/240 [==============================] - 0s 837us/step - loss: 472.4232\n",
      "Epoch 6/100\n",
      "240/240 [==============================] - 0s 791us/step - loss: 457.7929\n",
      "Epoch 7/100\n",
      "240/240 [==============================] - 0s 762us/step - loss: 441.1496\n",
      "Epoch 8/100\n",
      "240/240 [==============================] - 0s 849us/step - loss: 422.9130\n",
      "Epoch 9/100\n",
      "240/240 [==============================] - 0s 1000us/step - loss: 403.4978\n",
      "Epoch 10/100\n",
      "240/240 [==============================] - 0s 828us/step - loss: 382.2660\n",
      "Epoch 11/100\n",
      "240/240 [==============================] - 0s 795us/step - loss: 359.9116\n",
      "Epoch 12/100\n",
      "240/240 [==============================] - 0s 766us/step - loss: 336.6282\n",
      "Epoch 13/100\n",
      "240/240 [==============================] - 0s 766us/step - loss: 312.3082\n",
      "Epoch 14/100\n",
      "240/240 [==============================] - 0s 816us/step - loss: 287.3207\n",
      "Epoch 15/100\n",
      "240/240 [==============================] - 0s 770us/step - loss: 262.2541\n",
      "Epoch 16/100\n",
      "240/240 [==============================] - 0s 782us/step - loss: 237.3076\n",
      "Epoch 17/100\n",
      "240/240 [==============================] - 0s 770us/step - loss: 212.4898\n",
      "Epoch 18/100\n",
      "240/240 [==============================] - 0s 762us/step - loss: 188.1594\n",
      "Epoch 19/100\n",
      "240/240 [==============================] - 0s 820us/step - loss: 165.1998\n",
      "Epoch 20/100\n",
      "240/240 [==============================] - 0s 791us/step - loss: 143.5864\n",
      "Epoch 21/100\n",
      "240/240 [==============================] - 0s 774us/step - loss: 122.5941\n",
      "Epoch 22/100\n",
      "240/240 [==============================] - 0s 787us/step - loss: 103.7276\n",
      "Epoch 23/100\n",
      "240/240 [==============================] - 0s 778us/step - loss: 86.7772\n",
      "Epoch 24/100\n",
      "240/240 [==============================] - 0s 799us/step - loss: 72.2095\n",
      "Epoch 25/100\n",
      "240/240 [==============================] - 0s 820us/step - loss: 59.5235\n",
      "Epoch 26/100\n",
      "240/240 [==============================] - 0s 929us/step - loss: 50.1228\n",
      "Epoch 27/100\n",
      "240/240 [==============================] - 0s 849us/step - loss: 42.2652\n",
      "Epoch 28/100\n",
      "240/240 [==============================] - 0s 766us/step - loss: 36.6446\n",
      "Epoch 29/100\n",
      "240/240 [==============================] - 0s 787us/step - loss: 32.6292\n",
      "Epoch 30/100\n",
      "240/240 [==============================] - 0s 812us/step - loss: 30.5377\n",
      "Epoch 31/100\n",
      "240/240 [==============================] - 0s 787us/step - loss: 28.5002\n",
      "Epoch 32/100\n",
      "240/240 [==============================] - 0s 774us/step - loss: 28.0111\n",
      "Epoch 33/100\n",
      "240/240 [==============================] - 0s 770us/step - loss: 27.5382\n",
      "Epoch 34/100\n",
      "240/240 [==============================] - 0s 787us/step - loss: 27.0594\n",
      "Epoch 35/100\n",
      "240/240 [==============================] - 0s 824us/step - loss: 27.0323\n",
      "Epoch 36/100\n",
      "240/240 [==============================] - 0s 757us/step - loss: 27.1618\n",
      "Epoch 37/100\n",
      "240/240 [==============================] - 0s 778us/step - loss: 26.7910\n",
      "Epoch 38/100\n",
      "240/240 [==============================] - 0s 757us/step - loss: 26.9318\n",
      "Epoch 39/100\n",
      "240/240 [==============================] - 0s 753us/step - loss: 27.0141\n",
      "Epoch 40/100\n",
      "240/240 [==============================] - 0s 812us/step - loss: 26.9489\n",
      "Epoch 41/100\n",
      "240/240 [==============================] - 0s 757us/step - loss: 27.2325\n",
      "Epoch 42/100\n",
      "240/240 [==============================] - 0s 841us/step - loss: 26.7731\n",
      "Epoch 43/100\n",
      "240/240 [==============================] - 0s 828us/step - loss: 26.8254\n",
      "Epoch 44/100\n",
      "240/240 [==============================] - 0s 787us/step - loss: 26.7953\n",
      "Epoch 45/100\n",
      "240/240 [==============================] - 0s 879us/step - loss: 26.7469\n",
      "Epoch 46/100\n",
      "240/240 [==============================] - 0s 774us/step - loss: 26.8391\n",
      "Epoch 47/100\n",
      "240/240 [==============================] - 0s 791us/step - loss: 27.0889\n",
      "Epoch 48/100\n",
      "240/240 [==============================] - 0s 791us/step - loss: 27.4413\n",
      "Epoch 49/100\n",
      "240/240 [==============================] - 0s 770us/step - loss: 27.2720\n",
      "Epoch 50/100\n",
      "240/240 [==============================] - 0s 778us/step - loss: 26.9189\n",
      "Epoch 51/100\n",
      "240/240 [==============================] - 0s 778us/step - loss: 27.2952\n",
      "Epoch 52/100\n",
      "240/240 [==============================] - 0s 791us/step - loss: 26.9230\n",
      "Epoch 53/100\n",
      "240/240 [==============================] - 0s 795us/step - loss: 26.9352\n",
      "Epoch 54/100\n",
      "240/240 [==============================] - 0s 778us/step - loss: 27.1466\n",
      "Epoch 55/100\n",
      "240/240 [==============================] - 0s 841us/step - loss: 27.1508\n",
      "Epoch 56/100\n",
      "240/240 [==============================] - 0s 870us/step - loss: 27.2050\n",
      "Epoch 57/100\n",
      "240/240 [==============================] - 0s 987us/step - loss: 27.2075\n",
      "Epoch 58/100\n",
      "240/240 [==============================] - 0s 1ms/step - loss: 26.4284\n",
      "Epoch 59/100\n",
      "240/240 [==============================] - 0s 1ms/step - loss: 27.2210\n",
      "Epoch 60/100\n",
      "240/240 [==============================] - 0s 1ms/step - loss: 26.8788\n",
      "Epoch 61/100\n",
      "240/240 [==============================] - 0s 1ms/step - loss: 27.1209\n",
      "Epoch 62/100\n",
      "240/240 [==============================] - 0s 1ms/step - loss: 26.6279\n",
      "Epoch 63/100\n",
      "240/240 [==============================] - 0s 891us/step - loss: 27.2755\n",
      "Epoch 64/100\n",
      "240/240 [==============================] - 0s 887us/step - loss: 26.7463\n",
      "Epoch 65/100\n",
      "240/240 [==============================] - 0s 891us/step - loss: 26.9615\n",
      "Epoch 66/100\n",
      "240/240 [==============================] - 0s 828us/step - loss: 27.2849\n",
      "Epoch 67/100\n",
      "240/240 [==============================] - 0s 820us/step - loss: 26.6288\n",
      "Epoch 68/100\n",
      "240/240 [==============================] - 0s 820us/step - loss: 27.0799\n",
      "Epoch 69/100\n",
      "240/240 [==============================] - 0s 828us/step - loss: 26.6946\n",
      "Epoch 70/100\n",
      "240/240 [==============================] - 0s 828us/step - loss: 27.0053\n",
      "Epoch 71/100\n",
      "240/240 [==============================] - 0s 833us/step - loss: 26.9957\n",
      "Epoch 72/100\n",
      "240/240 [==============================] - 0s 845us/step - loss: 26.5593\n",
      "Epoch 73/100\n",
      "240/240 [==============================] - 0s 883us/step - loss: 26.5504\n",
      "Epoch 74/100\n",
      "240/240 [==============================] - 0s 858us/step - loss: 27.3210\n",
      "Epoch 75/100\n",
      "240/240 [==============================] - 0s 874us/step - loss: 26.7830\n",
      "Epoch 76/100\n",
      "240/240 [==============================] - 0s 862us/step - loss: 26.4725\n",
      "Epoch 77/100\n",
      "240/240 [==============================] - 0s 787us/step - loss: 26.6050\n",
      "Epoch 78/100\n",
      "240/240 [==============================] - 0s 762us/step - loss: 27.3698\n",
      "Epoch 79/100\n",
      "240/240 [==============================] - 0s 757us/step - loss: 26.7798\n",
      "Epoch 80/100\n",
      "240/240 [==============================] - 0s 757us/step - loss: 26.6663\n",
      "Epoch 81/100\n",
      "240/240 [==============================] - 0s 774us/step - loss: 27.2518\n",
      "Epoch 82/100\n",
      "240/240 [==============================] - 0s 778us/step - loss: 26.8970\n",
      "Epoch 83/100\n",
      "240/240 [==============================] - 0s 824us/step - loss: 26.5446\n",
      "Epoch 84/100\n",
      "240/240 [==============================] - 0s 753us/step - loss: 26.7896\n",
      "Epoch 85/100\n",
      "240/240 [==============================] - 0s 770us/step - loss: 27.3223\n",
      "Epoch 86/100\n",
      "240/240 [==============================] - 0s 803us/step - loss: 27.2870\n",
      "Epoch 87/100\n",
      "240/240 [==============================] - 0s 770us/step - loss: 27.4697\n",
      "Epoch 88/100\n",
      "240/240 [==============================] - 0s 837us/step - loss: 26.9365\n",
      "Epoch 89/100\n",
      "240/240 [==============================] - 0s 816us/step - loss: 26.6580\n",
      "Epoch 90/100\n",
      "240/240 [==============================] - 0s 808us/step - loss: 26.8113\n",
      "Epoch 91/100\n",
      "240/240 [==============================] - 0s 824us/step - loss: 27.0706\n",
      "Epoch 92/100\n",
      "240/240 [==============================] - 0s 833us/step - loss: 26.7906\n",
      "Epoch 93/100\n",
      "240/240 [==============================] - 0s 841us/step - loss: 26.5685\n",
      "Epoch 94/100\n",
      "240/240 [==============================] - 0s 828us/step - loss: 26.5058\n",
      "Epoch 95/100\n",
      "240/240 [==============================] - 0s 824us/step - loss: 26.7663\n",
      "Epoch 96/100\n",
      "240/240 [==============================] - 0s 837us/step - loss: 26.9565\n",
      "Epoch 97/100\n",
      "240/240 [==============================] - 0s 841us/step - loss: 26.5693\n",
      "Epoch 98/100\n",
      "240/240 [==============================] - 0s 887us/step - loss: 27.1710\n",
      "Epoch 99/100\n",
      "240/240 [==============================] - 0s 837us/step - loss: 26.7137\n",
      "Epoch 100/100\n",
      "240/240 [==============================] - 0s 874us/step - loss: 26.6723\n"
     ]
    },
    {
     "data": {
      "text/plain": "<keras.callbacks.History at 0x1fcb7e1a9a0>"
     },
     "execution_count": 10,
     "metadata": {},
     "output_type": "execute_result"
    }
   ]
  },
  {
   "cell_type": "markdown",
   "metadata": {
    "id": "0H0zKKNEBLD5",
    "colab_type": "text"
   },
   "source": [
    "### Predicting the results of the Test set"
   ]
  },
  {
   "cell_type": "code",
   "metadata": {
    "id": "IA0yApEmBG1X",
    "colab_type": "code",
    "colab": {
     "base_uri": "https://localhost:8080/",
     "height": 134
    },
    "outputId": "cb981e1f-9204-4a2a-fece-9d66a6919189"
   },
   "source": [
    "y_pred = ann.predict(X_test)\n",
    "\n",
    "np.set_printoptions(precision=2)\n",
    "print(np.concatenate((y_pred.reshape(len(y_pred),1), y_test.reshape(len(y_test),1)),1))"
   ],
   "execution_count": 18,
   "outputs": [
    {
     "name": "stdout",
     "output_type": "stream",
     "text": [
      "60/60 [==============================] - 0s 610us/step\n",
      "[[432.34 431.23]\n",
      " [463.49 460.01]\n",
      " [467.   461.14]\n",
      " ...\n",
      " [474.24 473.26]\n",
      " [440.98 438.  ]\n",
      " [460.23 463.28]]\n"
     ]
    }
   ]
  },
  {
   "cell_type": "code",
   "execution_count": 22,
   "outputs": [
    {
     "name": "stdout",
     "output_type": "stream",
     "text": [
      "4.083892346484783\n"
     ]
    }
   ],
   "source": [
    "from sklearn.metrics import mean_absolute_error\n",
    "\n",
    "print(mean_absolute_error(y_pred.reshape(len(y_pred),1), y_test.reshape(len(y_test),1)))"
   ],
   "metadata": {
    "collapsed": false
   }
  },
  {
   "cell_type": "code",
   "execution_count": null,
   "outputs": [],
   "source": [],
   "metadata": {
    "collapsed": false
   }
  }
 ]
}
