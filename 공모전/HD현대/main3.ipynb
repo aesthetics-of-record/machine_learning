{
 "cells": [
  {
   "cell_type": "code",
   "execution_count": null,
   "metadata": {
    "collapsed": true,
    "pycharm": {
     "is_executing": true
    }
   },
   "outputs": [],
   "source": [
    "import matplotlib.pyplot as plt\n",
    "import pandas as pd\n",
    "import numpy as np\n",
    "import lightgbm as lgb\n",
    "import bisect\n",
    "from tqdm import tqdm\n",
    "from sklearn.preprocessing import LabelEncoder\n",
    "\n",
    "\n",
    "train = pd.read_csv('data/train.csv').drop(columns=['SAMPLE_ID'])\n",
    "test = pd.read_csv('data/test.csv').drop(columns=['SAMPLE_ID'])\n",
    "\n",
    "\n",
    "\n",
    "\n",
    "\n",
    "\n",
    "# datetime 컬럼 처리\n",
    "train['ATA'] = pd.to_datetime(train['ATA'])\n",
    "test['ATA'] = pd.to_datetime(test['ATA'])\n",
    "# datetime을 여러 파생 변수로 변환\n",
    "## datetime을 학습하기 위해 년 ~ 분까지 데이터를 나눔.\n",
    "for df in [train, test]:\n",
    "    df['year'] = df['ATA'].dt.year\n",
    "    df['month'] = df['ATA'].dt.month\n",
    "    df['day'] = df['ATA'].dt.day\n",
    "    df['hour'] = df['ATA'].dt.hour\n",
    "    df['minute'] = df['ATA'].dt.minute\n",
    "    df['weekday'] = df['ATA'].dt.weekday\n",
    "\n",
    "# datetime 컬럼 제거\n",
    "train.drop(columns='ATA', inplace=True)\n",
    "test.drop(columns='ATA', inplace=True)\n",
    "\n",
    "# Categorical 컬럼 인코딩\n",
    "categorical_features = ['ARI_CO', 'ARI_PO', 'SHIP_TYPE_CATEGORY', 'ID', 'SHIPMANAGER', 'FLAG']\n",
    "encoders = {}\n",
    "\n",
    "for feature in tqdm(categorical_features, desc=\"Encoding features\"):\n",
    "    le = LabelEncoder()\n",
    "    train[feature] = le.fit_transform(train[feature].astype(str))\n",
    "    le_classes_set = set(le.classes_)\n",
    "    test[feature] = test[feature].map(lambda s: '-1' if s not in le_classes_set else s)\n",
    "    le_classes = le.classes_.tolist()\n",
    "    bisect.insort_left(le_classes, '-1')\n",
    "    le.classes_ = np.array(le_classes)\n",
    "    test[feature] = le.transform(test[feature].astype(str))\n",
    "    encoders[feature] = le\n",
    "\n",
    "# 결측치 처리\n",
    "train.fillna(train.mean(), inplace=True)\n",
    "test.fillna(train.mean(), inplace=True)\n",
    "\n",
    "\n",
    "\n",
    "\n",
    "\n",
    "\n",
    "\n",
    "\n",
    "def train_and_evaluate(model, model_name, X_train, y_train):\n",
    "\tprint(f'Model Tune for {model_name}.')\n",
    "\tmodel.fit(X_train, y_train)\n",
    "\n",
    "\tfeature_importances = model.feature_importances_\n",
    "\tsorted_idx = feature_importances.argsort()\n",
    "\n",
    "\tplt.figure(figsize=(10, len(X_train.columns)))\n",
    "\tplt.title(f\"Feature Importances ({model_name})\")\n",
    "\tplt.barh(range(X_train.shape[1]), feature_importances[sorted_idx], align='center')\n",
    "\tplt.yticks(range(X_train.shape[1]), X_train.columns[sorted_idx])\n",
    "\tplt.xlabel('Importance')\n",
    "\tplt.show()\n",
    "\n",
    "\treturn model, feature_importances\n",
    "\n",
    "\n",
    "X_train = train.drop(columns='CI_HOUR')\n",
    "y_train = train['CI_HOUR']\n",
    "\n",
    "# Model Tune for LGBM\n",
    "lgbm_model, lgbm_feature_importances = train_and_evaluate(lgb.LGBMRegressor(), 'LGBM', X_train, y_train)\n",
    "\n",
    "\n",
    "\n",
    "\n",
    "\n",
    "\n",
    "\n",
    "threshold = 90 # Your Threshold\n",
    "low_importance_features = X_train.columns[lgbm_feature_importances < threshold]\n",
    "\n",
    "X_train_reduced = X_train.drop(columns=low_importance_features) # column을 날리는 거라 데이터 개수에 영향 x\n",
    "# print(X_train_reduced.shape, X_train.shape)\n",
    "\n",
    "X_test_reduced = test.drop(columns=low_importance_features)\n",
    "\n",
    "# lgbm = lgb.LGBMRegressor(max_depth=-1, num_leaves=250, learning_rate=0.4)"
   ]
  },
  {
   "cell_type": "code",
   "execution_count": 2,
   "outputs": [
    {
     "name": "stdout",
     "output_type": "stream",
     "text": [
      "작동?\n"
     ]
    },
    {
     "data": {
      "text/plain": "GridSearchCV(cv=5, estimator=LGBMRegressor(),\n             param_grid={'learning_rate': [0.4], 'max_depth': [-1],\n                         'n_estimators': [200, 500, 1000, 2000],\n                         'num_leaves': [250]},\n             return_train_score=True, scoring='neg_mean_squared_error')",
      "text/html": "<style>#sk-6bfff861-3b6e-4138-b16d-f2ef09517bf4 {color: black;background-color: white;}#sk-6bfff861-3b6e-4138-b16d-f2ef09517bf4 pre{padding: 0;}#sk-6bfff861-3b6e-4138-b16d-f2ef09517bf4 div.sk-toggleable {background-color: white;}#sk-6bfff861-3b6e-4138-b16d-f2ef09517bf4 label.sk-toggleable__label {cursor: pointer;display: block;width: 100%;margin-bottom: 0;padding: 0.3em;box-sizing: border-box;text-align: center;}#sk-6bfff861-3b6e-4138-b16d-f2ef09517bf4 label.sk-toggleable__label-arrow:before {content: \"▸\";float: left;margin-right: 0.25em;color: #696969;}#sk-6bfff861-3b6e-4138-b16d-f2ef09517bf4 label.sk-toggleable__label-arrow:hover:before {color: black;}#sk-6bfff861-3b6e-4138-b16d-f2ef09517bf4 div.sk-estimator:hover label.sk-toggleable__label-arrow:before {color: black;}#sk-6bfff861-3b6e-4138-b16d-f2ef09517bf4 div.sk-toggleable__content {max-height: 0;max-width: 0;overflow: hidden;text-align: left;background-color: #f0f8ff;}#sk-6bfff861-3b6e-4138-b16d-f2ef09517bf4 div.sk-toggleable__content pre {margin: 0.2em;color: black;border-radius: 0.25em;background-color: #f0f8ff;}#sk-6bfff861-3b6e-4138-b16d-f2ef09517bf4 input.sk-toggleable__control:checked~div.sk-toggleable__content {max-height: 200px;max-width: 100%;overflow: auto;}#sk-6bfff861-3b6e-4138-b16d-f2ef09517bf4 input.sk-toggleable__control:checked~label.sk-toggleable__label-arrow:before {content: \"▾\";}#sk-6bfff861-3b6e-4138-b16d-f2ef09517bf4 div.sk-estimator input.sk-toggleable__control:checked~label.sk-toggleable__label {background-color: #d4ebff;}#sk-6bfff861-3b6e-4138-b16d-f2ef09517bf4 div.sk-label input.sk-toggleable__control:checked~label.sk-toggleable__label {background-color: #d4ebff;}#sk-6bfff861-3b6e-4138-b16d-f2ef09517bf4 input.sk-hidden--visually {border: 0;clip: rect(1px 1px 1px 1px);clip: rect(1px, 1px, 1px, 1px);height: 1px;margin: -1px;overflow: hidden;padding: 0;position: absolute;width: 1px;}#sk-6bfff861-3b6e-4138-b16d-f2ef09517bf4 div.sk-estimator {font-family: monospace;background-color: #f0f8ff;border: 1px dotted black;border-radius: 0.25em;box-sizing: border-box;margin-bottom: 0.5em;}#sk-6bfff861-3b6e-4138-b16d-f2ef09517bf4 div.sk-estimator:hover {background-color: #d4ebff;}#sk-6bfff861-3b6e-4138-b16d-f2ef09517bf4 div.sk-parallel-item::after {content: \"\";width: 100%;border-bottom: 1px solid gray;flex-grow: 1;}#sk-6bfff861-3b6e-4138-b16d-f2ef09517bf4 div.sk-label:hover label.sk-toggleable__label {background-color: #d4ebff;}#sk-6bfff861-3b6e-4138-b16d-f2ef09517bf4 div.sk-serial::before {content: \"\";position: absolute;border-left: 1px solid gray;box-sizing: border-box;top: 2em;bottom: 0;left: 50%;}#sk-6bfff861-3b6e-4138-b16d-f2ef09517bf4 div.sk-serial {display: flex;flex-direction: column;align-items: center;background-color: white;padding-right: 0.2em;padding-left: 0.2em;}#sk-6bfff861-3b6e-4138-b16d-f2ef09517bf4 div.sk-item {z-index: 1;}#sk-6bfff861-3b6e-4138-b16d-f2ef09517bf4 div.sk-parallel {display: flex;align-items: stretch;justify-content: center;background-color: white;}#sk-6bfff861-3b6e-4138-b16d-f2ef09517bf4 div.sk-parallel::before {content: \"\";position: absolute;border-left: 1px solid gray;box-sizing: border-box;top: 2em;bottom: 0;left: 50%;}#sk-6bfff861-3b6e-4138-b16d-f2ef09517bf4 div.sk-parallel-item {display: flex;flex-direction: column;position: relative;background-color: white;}#sk-6bfff861-3b6e-4138-b16d-f2ef09517bf4 div.sk-parallel-item:first-child::after {align-self: flex-end;width: 50%;}#sk-6bfff861-3b6e-4138-b16d-f2ef09517bf4 div.sk-parallel-item:last-child::after {align-self: flex-start;width: 50%;}#sk-6bfff861-3b6e-4138-b16d-f2ef09517bf4 div.sk-parallel-item:only-child::after {width: 0;}#sk-6bfff861-3b6e-4138-b16d-f2ef09517bf4 div.sk-dashed-wrapped {border: 1px dashed gray;margin: 0 0.4em 0.5em 0.4em;box-sizing: border-box;padding-bottom: 0.4em;background-color: white;position: relative;}#sk-6bfff861-3b6e-4138-b16d-f2ef09517bf4 div.sk-label label {font-family: monospace;font-weight: bold;background-color: white;display: inline-block;line-height: 1.2em;}#sk-6bfff861-3b6e-4138-b16d-f2ef09517bf4 div.sk-label-container {position: relative;z-index: 2;text-align: center;}#sk-6bfff861-3b6e-4138-b16d-f2ef09517bf4 div.sk-container {/* jupyter's `normalize.less` sets `[hidden] { display: none; }` but bootstrap.min.css set `[hidden] { display: none !important; }` so we also need the `!important` here to be able to override the default hidden behavior on the sphinx rendered scikit-learn.org. See: https://github.com/scikit-learn/scikit-learn/issues/21755 */display: inline-block !important;position: relative;}#sk-6bfff861-3b6e-4138-b16d-f2ef09517bf4 div.sk-text-repr-fallback {display: none;}</style><div id=\"sk-6bfff861-3b6e-4138-b16d-f2ef09517bf4\" class=\"sk-top-container\"><div class=\"sk-text-repr-fallback\"><pre>GridSearchCV(cv=5, estimator=LGBMRegressor(),\n             param_grid={&#x27;learning_rate&#x27;: [0.4], &#x27;max_depth&#x27;: [-1],\n                         &#x27;n_estimators&#x27;: [200, 500, 1000, 2000],\n                         &#x27;num_leaves&#x27;: [250]},\n             return_train_score=True, scoring=&#x27;neg_mean_squared_error&#x27;)</pre><b>Please rerun this cell to show the HTML repr or trust the notebook.</b></div><div class=\"sk-container\" hidden><div class=\"sk-item sk-dashed-wrapped\"><div class=\"sk-label-container\"><div class=\"sk-label sk-toggleable\"><input class=\"sk-toggleable__control sk-hidden--visually\" id=\"0d612616-b614-42ff-8981-f2888a013212\" type=\"checkbox\" ><label for=\"0d612616-b614-42ff-8981-f2888a013212\" class=\"sk-toggleable__label sk-toggleable__label-arrow\">GridSearchCV</label><div class=\"sk-toggleable__content\"><pre>GridSearchCV(cv=5, estimator=LGBMRegressor(),\n             param_grid={&#x27;learning_rate&#x27;: [0.4], &#x27;max_depth&#x27;: [-1],\n                         &#x27;n_estimators&#x27;: [200, 500, 1000, 2000],\n                         &#x27;num_leaves&#x27;: [250]},\n             return_train_score=True, scoring=&#x27;neg_mean_squared_error&#x27;)</pre></div></div></div><div class=\"sk-parallel\"><div class=\"sk-parallel-item\"><div class=\"sk-item\"><div class=\"sk-serial\"><div class=\"sk-item\"><div class=\"sk-estimator sk-toggleable\"><input class=\"sk-toggleable__control sk-hidden--visually\" id=\"72d30514-8603-4359-ab7b-5591ca56ca1a\" type=\"checkbox\" ><label for=\"72d30514-8603-4359-ab7b-5591ca56ca1a\" class=\"sk-toggleable__label sk-toggleable__label-arrow\">LGBMRegressor</label><div class=\"sk-toggleable__content\"><pre>LGBMRegressor()</pre></div></div></div></div></div></div></div></div></div></div>"
     },
     "execution_count": 2,
     "metadata": {},
     "output_type": "execute_result"
    }
   ],
   "source": [
    "from lightgbm import LGBMRegressor\n",
    "from sklearn import set_config\n",
    "\n",
    "\n",
    "set_config(display = 'diagram')\n",
    "\n",
    "\n",
    "# 그리드 서치\n",
    "from sklearn.model_selection import GridSearchCV\n",
    "\n",
    "\n",
    "param_grid = { 'max_depth':[-1, 5 ,20],\n",
    "\t\t\t   'n_estimators': [200, 500, 1000, 2000, 3000],\n",
    "               'learning_rate' : [0.5, 0.4, 0.3, 0.1],\n",
    "\t\t\t   'num_leaves': [250],\n",
    "\t\t\t   }\n",
    "\n",
    "# print(\"작동?\")\n",
    "\n",
    "gs = GridSearchCV(estimator = LGBMRegressor(),\n",
    "                  scoring = 'neg_mean_squared_error',\n",
    "                  cv = 5,  # 5겹 교차검증\n",
    "                  param_grid = param_grid,\n",
    "                  refit = True,  # 훈련후 바로 적용\n",
    "                  return_train_score = True # 훈련 성능 리턴\n",
    "                  )\n",
    "\n",
    "gs.fit(X_train_reduced, y_train)\n",
    "\n"
   ],
   "metadata": {
    "collapsed": false
   }
  },
  {
   "cell_type": "code",
   "execution_count": 3,
   "outputs": [
    {
     "name": "stdout",
     "output_type": "stream",
     "text": [
      "최적의 하이퍼파라미터 스코어:-6424.175208676337\n",
      "최적의 하이퍼파라미터 세트:{'learning_rate': 0.4, 'max_depth': -1, 'n_estimators': 2000, 'num_leaves': 250}\n"
     ]
    }
   ],
   "source": [
    "print(f'최적의 하이퍼파라미터 스코어:{gs.best_score_}')\n",
    "print(f'최적의 하이퍼파라미터 세트:{gs.best_params_}')"
   ],
   "metadata": {
    "collapsed": false
   }
  },
  {
   "cell_type": "code",
   "execution_count": null,
   "outputs": [],
   "source": [],
   "metadata": {
    "collapsed": false
   }
  },
  {
   "cell_type": "code",
   "execution_count": null,
   "outputs": [],
   "source": [],
   "metadata": {
    "collapsed": false
   }
  }
 ],
 "metadata": {
  "kernelspec": {
   "display_name": "Python 3",
   "language": "python",
   "name": "python3"
  },
  "language_info": {
   "codemirror_mode": {
    "name": "ipython",
    "version": 2
   },
   "file_extension": ".py",
   "mimetype": "text/x-python",
   "name": "python",
   "nbconvert_exporter": "python",
   "pygments_lexer": "ipython2",
   "version": "2.7.6"
  }
 },
 "nbformat": 4,
 "nbformat_minor": 0
}
