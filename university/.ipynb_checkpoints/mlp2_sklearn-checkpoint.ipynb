{
 "cells": [
  {
   "cell_type": "markdown",
   "id": "cba79a5d",
   "metadata": {
    "pycharm": {
     "name": ""
    }
   },
   "source": [
    "# sklearn 을 이용한 MLP 학습"
   ]
  },
  {
   "cell_type": "markdown",
   "id": "129afc7a",
   "metadata": {},
   "source": [
    "### MLP 학습을 위한 모듈 불러오기"
   ]
  },
  {
   "cell_type": "code",
   "execution_count": 2,
   "id": "70918f38",
   "metadata": {},
   "outputs": [],
   "source": [
    "import pandas as pd\n",
    "from sklearn.datasets import load_wine\n",
    "from sklearn.model_selection import train_test_split\n",
    "from sklearn.preprocessing import StandardScaler\n",
    "from sklearn.neural_network import MLPClassifier\n",
    "from sklearn.metrics import classification_report, confusion_matrix"
   ]
  },
  {
   "cell_type": "markdown",
   "id": "ab95cc43",
   "metadata": {},
   "source": [
    "### 사이킷런에서 제공해주는 데이터 셋 로딩"
   ]
  },
  {
   "cell_type": "code",
   "execution_count": 3,
   "id": "903a4d7f",
   "metadata": {},
   "outputs": [
    {
     "name": "stdout",
     "output_type": "stream",
     "text": [
      "   alcohol  malic_acid   ash  alcalinity_of_ash  magnesium  total_phenols  \\\n",
      "0    14.23        1.71  2.43               15.6      127.0           2.80   \n",
      "1    13.20        1.78  2.14               11.2      100.0           2.65   \n",
      "2    13.16        2.36  2.67               18.6      101.0           2.80   \n",
      "3    14.37        1.95  2.50               16.8      113.0           3.85   \n",
      "4    13.24        2.59  2.87               21.0      118.0           2.80   \n",
      "\n",
      "   flavanoids  nonflavanoid_phenols  proanthocyanins  color_intensity   hue  \\\n",
      "0        3.06                  0.28             2.29             5.64  1.04   \n",
      "1        2.76                  0.26             1.28             4.38  1.05   \n",
      "2        3.24                  0.30             2.81             5.68  1.03   \n",
      "3        3.49                  0.24             2.18             7.80  0.86   \n",
      "4        2.69                  0.39             1.82             4.32  1.04   \n",
      "\n",
      "   od280/od315_of_diluted_wines  proline  \n",
      "0                          3.92   1065.0  \n",
      "1                          3.40   1050.0  \n",
      "2                          3.17   1185.0  \n",
      "3                          3.45   1480.0  \n",
      "4                          2.93    735.0  \n"
     ]
    }
   ],
   "source": [
    "wine = load_wine() # 데이터 불러오기\n",
    "data = pd.DataFrame(data=wine['data'], columns=wine['feature_names'])\n",
    "print(data.head()) # 상위 5개의 데이터 행만 출력"
   ]
  },
  {
   "cell_type": "markdown",
   "id": "3303309a",
   "metadata": {},
   "source": [
    "### 데이터 전처리 (훈련/테스트 데이터 분리 및 스탠다드스케일러 적용)"
   ]
  },
  {
   "cell_type": "code",
   "execution_count": 7,
   "id": "86847386",
   "metadata": {},
   "outputs": [
    {
     "data": {
      "text/plain": [
       "StandardScaler()"
      ]
     },
     "execution_count": 7,
     "metadata": {},
     "output_type": "execute_result"
    }
   ],
   "source": [
    "x = wine.data\n",
    "y = wine.target\n",
    "x_train, x_test, y_train, y_test = train_test_split(x, y)\n",
    "\n",
    "scaler = StandardScaler(copy=True, with_mean=True, with_std=True)\n",
    "scaler.fit(x_train)"
   ]
  },
  {
   "cell_type": "markdown",
   "id": "5240da5b",
   "metadata": {},
   "source": [
    "x_train = scaler.transform(x_train)\n",
    "x_test = scaler.transform(x_test)"
   ]
  },
  {
   "cell_type": "markdown",
   "id": "929a504d",
   "metadata": {},
   "source": [
    "## MLP모델 생성 및 학습"
   ]
  },
  {
   "cell_type": "code",
   "execution_count": 16,
   "id": "a5bcc7c6",
   "metadata": {},
   "outputs": [
    {
     "data": {
      "text/plain": [
       "0.9333333333333333"
      ]
     },
     "execution_count": 16,
     "metadata": {},
     "output_type": "execute_result"
    }
   ],
   "source": [
    "mlp = MLPClassifier(hidden_layer_sizes=(13,13,13), max_iter=500)\n",
    "mlp.fit(x_train, y_train)\n",
    "predictions = mlp.predict(x_test)\n",
    "mlp.score(x_test, y_test)"
   ]
  },
  {
   "cell_type": "markdown",
   "id": "9a2dd2f0",
   "metadata": {},
   "source": [
    "### 혼동행렬 출력"
   ]
  },
  {
   "cell_type": "code",
   "execution_count": 17,
   "id": "876ea8c8",
   "metadata": {
    "scrolled": true
   },
   "outputs": [
    {
     "name": "stdout",
     "output_type": "stream",
     "text": [
      "[[14  0  0]\n",
      " [ 2 14  1]\n",
      " [ 0  0 14]]\n"
     ]
    }
   ],
   "source": [
    "print(confusion_matrix(y_test, predictions))"
   ]
  },
  {
   "cell_type": "markdown",
   "id": "df1a4301",
   "metadata": {},
   "source": [
    "### 성능 리포트"
   ]
  },
  {
   "cell_type": "code",
   "execution_count": 20,
   "id": "8516147f",
   "metadata": {},
   "outputs": [
    {
     "name": "stdout",
     "output_type": "stream",
     "text": [
      "              precision    recall  f1-score   support\n",
      "\n",
      "           0       0.88      1.00      0.93        14\n",
      "           1       1.00      0.82      0.90        17\n",
      "           2       0.93      1.00      0.97        14\n",
      "\n",
      "    accuracy                           0.93        45\n",
      "   macro avg       0.94      0.94      0.93        45\n",
      "weighted avg       0.94      0.93      0.93        45\n",
      "\n"
     ]
    }
   ],
   "source": [
    "print(classification_report(y_test, predictions))"
   ]
  }
 ],
 "metadata": {
  "kernelspec": {
   "display_name": "Python 3 (ipykernel)",
   "language": "python",
   "name": "python3"
  },
  "language_info": {
   "codemirror_mode": {
    "name": "ipython",
    "version": 3
   },
   "file_extension": ".py",
   "mimetype": "text/x-python",
   "name": "python",
   "nbconvert_exporter": "python",
   "pygments_lexer": "ipython3",
   "version": "3.9.13"
  }
 },
 "nbformat": 4,
 "nbformat_minor": 5
}
